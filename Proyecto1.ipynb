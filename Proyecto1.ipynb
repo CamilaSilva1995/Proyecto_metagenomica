{
 "cells": [
  {
   "cell_type": "markdown",
   "metadata": {},
   "source": [
    "Se tienen los Output de dos programas (Kraken y Kaiju), los cuales arrojan , c- Clasificado,  nombre del Read, y el Taxon; \n",
    "\n",
    "Objetivo: Hacer un scrpt que tome las salidas de varios programas  de asignacion taxonomica y los ponga en una tabla en la que : (Nombre de Read/ Taxon Asignado por Kraken/  Taxon Asignado por Kaiju) y así para lograr generalizar para varios programas.\n",
    "\n",
    "1. Poner los datos de los outputs ordenados en la misma tabla...(Nombre/Kraken/Kaiju) \n",
    "    1. Leer un (.csv o .tsc) y convertirlo en diccionario.\n",
    "    1. Hacer archivos mas pequeños de los datos\n",
    "    1. Crear diccionarios para los datos\n",
    "    1. Hacer un for para ordenar los datos\n",
    "\n"
   ]
  },
  {
   "cell_type": "code",
   "execution_count": 1,
   "metadata": {},
   "outputs": [],
   "source": [
    "#lectura de los datos por medio de pandas, se tomaron las 10 primeras lineas de ambos outputs\n",
    "import pandas as pd\n",
    "#datakraken = pd.read_csv('data/EG1BMAA_kraken',sep='\\t',header=None, names=[\"c-clasificado\", \"read\",\"taxon\",\"1\",\"2\"]) \n",
    "# pandas.leer archivo .csv(nombre del archivo, separado por tabulaciones, columnas sin nombre)\n",
    "datakraken10 = pd.read_csv('data/10lineas_kraken',sep='\\t',header=None, names=[\"c-clasificado\", \"read\",\"taxon\",\"1\",\"2\"])\n",
    "#datakaiju = pd.read_csv('data/EG1BMAA_kaiju',sep='\\t',header=None, names=[\"c-clasificado\", \"read\",\"taxon\"])\n",
    "datakaiju10 = pd.read_csv('data/10lineas_kaiju',sep='\\t',header=None, names=[\"c-clasificado\", \"read\",\"taxon\"])"
   ]
  },
  {
   "cell_type": "code",
   "execution_count": null,
   "metadata": {},
   "outputs": [],
   "source": [
    "datakraken10"
   ]
  },
  {
   "cell_type": "code",
   "execution_count": null,
   "metadata": {},
   "outputs": [],
   "source": [
    "# como kraken10 tiene dos columnas extra que no necesitamos por el momento las eliminamos con .drop,\n",
    "# asi quedan los dos outputs con las misma comunas\n",
    "datakraken101 = datakraken10.drop(['c-clasificado','1', '2'], axis=1)\n",
    "datakraken101"
   ]
  },
  {
   "cell_type": "code",
   "execution_count": null,
   "metadata": {},
   "outputs": [],
   "source": [
    "datakaiju101 = datakaiju10.drop(['c-clasificado'], axis=1)\n",
    "datakaiju101"
   ]
  },
  {
   "cell_type": "code",
   "execution_count": null,
   "metadata": {},
   "outputs": [],
   "source": [
    "#Une los DataFrame, pero solo toma el total de los elementos del primero, por lo tanto se pierde informacion.\n",
    "print (pd.merge(datakaiju101, datakraken101.rename(columns={'read':'read'}), on='read',  how='left'))"
   ]
  },
  {
   "cell_type": "code",
   "execution_count": null,
   "metadata": {},
   "outputs": [],
   "source": [
    "print (pd.merge(datakraken101, datakaiju101.rename(columns={'read':'read'}), on='read',  how='left'))"
   ]
  },
  {
   "cell_type": "code",
   "execution_count": null,
   "metadata": {},
   "outputs": [],
   "source": [
    "datakraken101.info()"
   ]
  },
  {
   "cell_type": "code",
   "execution_count": null,
   "metadata": {},
   "outputs": [],
   "source": [
    "datakaiju101.info()"
   ]
  },
  {
   "cell_type": "markdown",
   "metadata": {},
   "source": [
    "Cree dos diccionarios, cuyas 'keys' son los reads y los 'values' son los taxones segun la clacificación."
   ]
  },
  {
   "cell_type": "code",
   "execution_count": null,
   "metadata": {},
   "outputs": [],
   "source": [
    "dickraken = datakraken101.set_index('read').T.to_dict('list')\n",
    "dickraken"
   ]
  },
  {
   "cell_type": "code",
   "execution_count": null,
   "metadata": {},
   "outputs": [],
   "source": [
    "dickraken['NB501110:123:H7C3WBGX7:1:11101:22148:1069']"
   ]
  },
  {
   "cell_type": "code",
   "execution_count": null,
   "metadata": {},
   "outputs": [],
   "source": [
    "dickaiju = datakaiju101.set_index('read').T.to_dict('list')\n",
    "dickaiju"
   ]
  },
  {
   "cell_type": "code",
   "execution_count": null,
   "metadata": {},
   "outputs": [],
   "source": [
    "dickaiju['NB501110:123:H7C3WBGX7:1:11101:22148:1069']"
   ]
  },
  {
   "cell_type": "code",
   "execution_count": null,
   "metadata": {},
   "outputs": [],
   "source": [
    "#merge_dicts(dicKraken, dicKaiju)"
   ]
  },
  {
   "cell_type": "code",
   "execution_count": null,
   "metadata": {},
   "outputs": [],
   "source": [
    "#Este for crea un diccionario, tomando todos los datos de ambos diccionarios, mi mostrando el taxon de read para ambos outputs.\n",
    "from itertools import chain\n",
    "from collections import defaultdict\n",
    "dic = defaultdict(list)\n",
    "for k, v in chain(dickraken.items(), dickaiju.items()):\n",
    "    dic[k].append(v)\n",
    "dic "
   ]
  },
  {
   "cell_type": "code",
   "execution_count": null,
   "metadata": {},
   "outputs": [],
   "source": [
    "dic['NB501110:123:H7C3WBGX7:1:11101:22148:1069']"
   ]
  },
  {
   "cell_type": "code",
   "execution_count": null,
   "metadata": {},
   "outputs": [],
   "source": [
    "#Convertir el diccionario en un dataframe\n",
    "data_items = dic.items()\n",
    "data_list = list(data_items)\n",
    "\n",
    "dfdic = pd.DataFrame(data_list)#, columns=['nombre_read', 'kaiju_taxon'])\n",
    "dfdic"
   ]
  },
  {
   "cell_type": "code",
   "execution_count": null,
   "metadata": {},
   "outputs": [],
   "source": [
    "#df = pd.DataFrame(dic,columns=['nombre_read','kraken_taxon', 'kaiju_taxon'])\n",
    "#df"
   ]
  },
  {
   "cell_type": "code",
   "execution_count": null,
   "metadata": {},
   "outputs": [],
   "source": [
    "#dfk = pd.DataFrame(dickaiju, index=['a','b','c'], columns=['nombre_read', 'kaiju_taxon'])\n",
    "#dfk"
   ]
  },
  {
   "cell_type": "code",
   "execution_count": null,
   "metadata": {},
   "outputs": [],
   "source": [
    "dfk = pd.DataFrame(dickaiju)\n",
    "dfk\n",
    "#Esto toma los reads como columnas "
   ]
  },
  {
   "cell_type": "code",
   "execution_count": null,
   "metadata": {},
   "outputs": [],
   "source": [
    "data_items = dickaiju.items()\n",
    "data_list = list(data_items)\n",
    "\n",
    "df = pd.DataFrame(data_list, columns=['nombre_read', 'kaiju_taxon'])\n",
    "df"
   ]
  },
  {
   "cell_type": "code",
   "execution_count": null,
   "metadata": {},
   "outputs": [],
   "source": [
    "data_items = dickraken.items()\n",
    "data_list = list(data_items)\n",
    "\n",
    "dfk = pd.DataFrame(data_list, columns=['nombre_read', 'kraken_taxon'])\n",
    "dfk"
   ]
  },
  {
   "cell_type": "code",
   "execution_count": null,
   "metadata": {},
   "outputs": [],
   "source": [
    "#Une los DataFrame, pero solo toma el total de los elementos del primero, por lo tanto se pierde informacion.\n",
    "print (pd.merge(df, dfk, left_on='nombre_read', right_on='nombre_read', how='left'))"
   ]
  },
  {
   "cell_type": "code",
   "execution_count": null,
   "metadata": {},
   "outputs": [],
   "source": [
    "#Une dos diccionarios en uno solo, tomando todos los datos de ambos diccionarios\n",
    "def mergeDict(dict1, dict2):\n",
    "   #''' Merge dictionaries and keep values of common keys in list'''\n",
    "   dic = {**dickraken, **dickaiju}\n",
    "   for key, value in dic.items():\n",
    "       if key in dickraken and key in dickaiju:\n",
    "               dic[key] = [value , dickraken[key]]\n",
    "   return dic\n",
    "# Merge dictionaries and add values of common keys in a list\n",
    "dic = mergeDict(dickraken, dickaiju)\n",
    "dic"
   ]
  },
  {
   "cell_type": "code",
   "execution_count": null,
   "metadata": {},
   "outputs": [],
   "source": [
    "data_items = dic.items()\n",
    "data_list = list(data_items)\n",
    "dfdic = pd.DataFrame(data_list)"
   ]
  },
  {
   "cell_type": "code",
   "execution_count": null,
   "metadata": {},
   "outputs": [],
   "source": [
    "keyskraken = dict.keys(dickraken)\n",
    "keyskaiju = dict.keys(dickaiju)"
   ]
  },
  {
   "cell_type": "code",
   "execution_count": null,
   "metadata": {},
   "outputs": [],
   "source": [
    "keyskraken & keyskaiju"
   ]
  },
  {
   "cell_type": "code",
   "execution_count": null,
   "metadata": {},
   "outputs": [],
   "source": [
    "keyskraken - keyskaiju"
   ]
  },
  {
   "cell_type": "code",
   "execution_count": null,
   "metadata": {},
   "outputs": [],
   "source": [
    "keyskaiju - keyskraken "
   ]
  },
  {
   "cell_type": "code",
   "execution_count": null,
   "metadata": {},
   "outputs": [],
   "source": [
    "def mergeDict(dict1, dict2):\n",
    "   #'Merge dictionaries and keep values of common keys in list'\n",
    "    keys1 = dict.keys(dict1)\n",
    "    keys2 = dict.keys(dict2)\n",
    "    interccion = keys1 & keys2\n",
    "    dif1 = keys1 - keys2\n",
    "    dif2 = keys2 - keys1\n",
    "    dicc = {\"read\":[],\"kraken_taxon\":[],\"kaiju_taxon\":[],\"measure\":[]}\n",
    "   #dic = {**dict1, **dict2}\n",
    "    for i in interccion:\n",
    "        dicc[\"read\"].append(i)\n",
    "        dicc[\"kraken_taxon\"].append(dict1[i])\n",
    "        dicc[\"kaiju_taxon\"].append(dict2[i])\n",
    "        if dict1[i] == dict2[i]:\n",
    "            dicc[\"measure\"].append(1)\n",
    "        dicc[\"measure\"].append(0)\n",
    "    for i in dif1:\n",
    "        dicc[\"read\"].append(i)\n",
    "        dicc[\"kraken_taxon\"].append(dict1[i])\n",
    "        dicc[\"kaiju_taxon\"].append('NA')\n",
    "        dicc[\"measure\"].append(0)  \n",
    "    for i in dif2:\n",
    "        dicc[\"read\"].append(i)\n",
    "        dicc[\"kraken_taxon\"].append('NA')\n",
    "        dicc[\"kaiju_taxon\"].append(dict2[i])\n",
    "        dicc[\"measure\"].append(0)  \n",
    "    return dicc\n",
    "# Merge dictionaries and add values of common keys in a list\n",
    "dicc = mergeDict(dickraken, dickaiju)\n",
    "dicc"
   ]
  },
  {
   "cell_type": "code",
   "execution_count": null,
   "metadata": {},
   "outputs": [],
   "source": [
    "#convierte el diccionario en data frame\n",
    "dfdicc = pd.DataFrame(dicc)\n",
    "dfdicc"
   ]
  }
 ],
 "metadata": {
  "kernelspec": {
   "display_name": "Python 3",
   "language": "python",
   "name": "python3"
  },
  "language_info": {
   "codemirror_mode": {
    "name": "ipython",
    "version": 3
   },
   "file_extension": ".py",
   "mimetype": "text/x-python",
   "name": "python",
   "nbconvert_exporter": "python",
   "pygments_lexer": "ipython3",
   "version": "3.8.5"
  }
 },
 "nbformat": 4,
 "nbformat_minor": 4
}
