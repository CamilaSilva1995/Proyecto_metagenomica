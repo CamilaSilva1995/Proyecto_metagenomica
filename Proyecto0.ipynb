{
 "cells": [
  {
   "cell_type": "markdown",
   "metadata": {},
   "source": [
    "Se tienen los Output de dos programas (Kraken y Kaiju), los cuales arrojan , c- Clasificado,  nombre del Read, y el Taxon; \n",
    "\n",
    "Objetivo: Hacer un scrpt que tome las salidas de varios programas  de asignacion taxonomica y los ponga en una tabla en la que : (Nombre de Read/ Taxon Asignado por Kraken/  Taxon Asignado por Kaiju) y así para lograr generalizar para varios programas.\n",
    "\n",
    "1. Poner los datos de los outputs ordenados en la misma tabla...(Nombre/Kraken/Kaiju) \n",
    "    1. Leer un (.csv o .tsc) y convertirlo en diccionario.\n",
    "    1. Hacer archivos mas pequeños de los datos\n",
    "    1. Crear diccionarios para los datos\n",
    "    1. Hacer un for para ordenar los datos\n",
    "\n"
   ]
  },
  {
   "cell_type": "code",
   "execution_count": 3,
   "metadata": {},
   "outputs": [],
   "source": [
    "#lectura de los datos por medio de pandas, se tomaron las 10 primeras lineas de ambos outputs\n",
    "import pandas as pd\n",
    "#datakraken = pd.read_csv('data/EG1BMAA_kraken',sep='\\t',header=None, names=[\"c-clasificado\", \"read\",\"taxon\",\"1\",\"2\"]) \n",
    "# pandas.leer archivo .csv(nombre del archivo, separado por tabulaciones, columnas sin nombre)\n",
    "datakraken10 = pd.read_csv('data/10lineas_kraken',sep='\\t',header=None, names=[\"c-clasificado\", \"read\",\"taxon\",\"1\",\"2\"])\n",
    "#datakaiju = pd.read_csv('data/EG1BMAA_kaiju',sep='\\t',header=None, names=[\"c-clasificado\", \"read\",\"taxon\"])\n",
    "datakaiju10 = pd.read_csv('data/10lineas_kaiju',sep='\\t',header=None, names=[\"c-clasificado\", \"read\",\"taxon\"])"
   ]
  },
  {
   "cell_type": "code",
   "execution_count": 4,
   "metadata": {},
   "outputs": [
    {
     "data": {
      "text/html": [
       "<div>\n",
       "<style scoped>\n",
       "    .dataframe tbody tr th:only-of-type {\n",
       "        vertical-align: middle;\n",
       "    }\n",
       "\n",
       "    .dataframe tbody tr th {\n",
       "        vertical-align: top;\n",
       "    }\n",
       "\n",
       "    .dataframe thead th {\n",
       "        text-align: right;\n",
       "    }\n",
       "</style>\n",
       "<table border=\"1\" class=\"dataframe\">\n",
       "  <thead>\n",
       "    <tr style=\"text-align: right;\">\n",
       "      <th></th>\n",
       "      <th>c-clasificado</th>\n",
       "      <th>read</th>\n",
       "      <th>taxon</th>\n",
       "      <th>1</th>\n",
       "      <th>2</th>\n",
       "    </tr>\n",
       "  </thead>\n",
       "  <tbody>\n",
       "    <tr>\n",
       "      <th>0</th>\n",
       "      <td>C</td>\n",
       "      <td>NB501110:123:H7C3WBGX7:1:11101:9813:1065</td>\n",
       "      <td>547</td>\n",
       "      <td>151|151</td>\n",
       "      <td>A:6 2:5 1224:1 2:3 1236:10 91347:6 543:1 1236:...</td>\n",
       "    </tr>\n",
       "    <tr>\n",
       "      <th>1</th>\n",
       "      <td>C</td>\n",
       "      <td>NB501110:123:H7C3WBGX7:1:11101:9032:1067</td>\n",
       "      <td>329</td>\n",
       "      <td>150|150</td>\n",
       "      <td>A:6 119060:5 48736:5 329:13 0:4 329:7 0:6 1190...</td>\n",
       "    </tr>\n",
       "    <tr>\n",
       "      <th>2</th>\n",
       "      <td>C</td>\n",
       "      <td>NB501110:123:H7C3WBGX7:1:11101:9958:1067</td>\n",
       "      <td>69218</td>\n",
       "      <td>149|151</td>\n",
       "      <td>A:5 91347:17 69218:5 543:1 69218:21 543:4 6921...</td>\n",
       "    </tr>\n",
       "    <tr>\n",
       "      <th>3</th>\n",
       "      <td>C</td>\n",
       "      <td>NB501110:123:H7C3WBGX7:1:11101:22148:1069</td>\n",
       "      <td>1076549</td>\n",
       "      <td>150|150</td>\n",
       "      <td>A:6 1560356:1 91347:73 0:9 1560356:5 0:18 1560...</td>\n",
       "    </tr>\n",
       "    <tr>\n",
       "      <th>4</th>\n",
       "      <td>C</td>\n",
       "      <td>NB501110:123:H7C3WBGX7:1:11101:17061:1072</td>\n",
       "      <td>487316</td>\n",
       "      <td>150|151</td>\n",
       "      <td>A:6 469:57 487316:11 0:8 487316:2 0:8 469:3 0:...</td>\n",
       "    </tr>\n",
       "    <tr>\n",
       "      <th>5</th>\n",
       "      <td>C</td>\n",
       "      <td>NB501110:123:H7C3WBGX7:1:11101:7661:1075</td>\n",
       "      <td>69218</td>\n",
       "      <td>150|150</td>\n",
       "      <td>A:6 91347:3 547:5 91347:3 69218:14 547:1 69218...</td>\n",
       "    </tr>\n",
       "    <tr>\n",
       "      <th>6</th>\n",
       "      <td>C</td>\n",
       "      <td>NB501110:123:H7C3WBGX7:1:11101:3445:1076</td>\n",
       "      <td>1076549</td>\n",
       "      <td>151|151</td>\n",
       "      <td>A:6 91347:68 0:16 91347:2 0:12 91347:13 |:| 0:...</td>\n",
       "    </tr>\n",
       "    <tr>\n",
       "      <th>7</th>\n",
       "      <td>C</td>\n",
       "      <td>NB501110:123:H7C3WBGX7:1:11101:9350:1077</td>\n",
       "      <td>487316</td>\n",
       "      <td>151|150</td>\n",
       "      <td>A:6 0:3 469:64 487316:2 469:7 487316:22 469:13...</td>\n",
       "    </tr>\n",
       "    <tr>\n",
       "      <th>8</th>\n",
       "      <td>C</td>\n",
       "      <td>NB501110:123:H7C3WBGX7:1:11101:5326:1077</td>\n",
       "      <td>48736</td>\n",
       "      <td>151|151</td>\n",
       "      <td>A:6 2:111 |:| 48736:70 0:22 2:25</td>\n",
       "    </tr>\n",
       "    <tr>\n",
       "      <th>9</th>\n",
       "      <td>C</td>\n",
       "      <td>NB501110:123:H7C3WBGX7:1:11101:21410:1079</td>\n",
       "      <td>1560356</td>\n",
       "      <td>151|150</td>\n",
       "      <td>53335:11 91347:5 543:1 0:1 543:4 91347:3 2:6 5...</td>\n",
       "    </tr>\n",
       "  </tbody>\n",
       "</table>\n",
       "</div>"
      ],
      "text/plain": [
       "  c-clasificado                                       read    taxon        1  \\\n",
       "0             C   NB501110:123:H7C3WBGX7:1:11101:9813:1065      547  151|151   \n",
       "1             C   NB501110:123:H7C3WBGX7:1:11101:9032:1067      329  150|150   \n",
       "2             C   NB501110:123:H7C3WBGX7:1:11101:9958:1067    69218  149|151   \n",
       "3             C  NB501110:123:H7C3WBGX7:1:11101:22148:1069  1076549  150|150   \n",
       "4             C  NB501110:123:H7C3WBGX7:1:11101:17061:1072   487316  150|151   \n",
       "5             C   NB501110:123:H7C3WBGX7:1:11101:7661:1075    69218  150|150   \n",
       "6             C   NB501110:123:H7C3WBGX7:1:11101:3445:1076  1076549  151|151   \n",
       "7             C   NB501110:123:H7C3WBGX7:1:11101:9350:1077   487316  151|150   \n",
       "8             C   NB501110:123:H7C3WBGX7:1:11101:5326:1077    48736  151|151   \n",
       "9             C  NB501110:123:H7C3WBGX7:1:11101:21410:1079  1560356  151|150   \n",
       "\n",
       "                                                   2  \n",
       "0  A:6 2:5 1224:1 2:3 1236:10 91347:6 543:1 1236:...  \n",
       "1  A:6 119060:5 48736:5 329:13 0:4 329:7 0:6 1190...  \n",
       "2  A:5 91347:17 69218:5 543:1 69218:21 543:4 6921...  \n",
       "3  A:6 1560356:1 91347:73 0:9 1560356:5 0:18 1560...  \n",
       "4  A:6 469:57 487316:11 0:8 487316:2 0:8 469:3 0:...  \n",
       "5  A:6 91347:3 547:5 91347:3 69218:14 547:1 69218...  \n",
       "6  A:6 91347:68 0:16 91347:2 0:12 91347:13 |:| 0:...  \n",
       "7  A:6 0:3 469:64 487316:2 469:7 487316:22 469:13...  \n",
       "8                   A:6 2:111 |:| 48736:70 0:22 2:25  \n",
       "9  53335:11 91347:5 543:1 0:1 543:4 91347:3 2:6 5...  "
      ]
     },
     "execution_count": 4,
     "metadata": {},
     "output_type": "execute_result"
    }
   ],
   "source": [
    "datakraken10"
   ]
  },
  {
   "cell_type": "code",
   "execution_count": 5,
   "metadata": {},
   "outputs": [
    {
     "data": {
      "text/html": [
       "<div>\n",
       "<style scoped>\n",
       "    .dataframe tbody tr th:only-of-type {\n",
       "        vertical-align: middle;\n",
       "    }\n",
       "\n",
       "    .dataframe tbody tr th {\n",
       "        vertical-align: top;\n",
       "    }\n",
       "\n",
       "    .dataframe thead th {\n",
       "        text-align: right;\n",
       "    }\n",
       "</style>\n",
       "<table border=\"1\" class=\"dataframe\">\n",
       "  <thead>\n",
       "    <tr style=\"text-align: right;\">\n",
       "      <th></th>\n",
       "      <th>read</th>\n",
       "      <th>taxon</th>\n",
       "    </tr>\n",
       "  </thead>\n",
       "  <tbody>\n",
       "    <tr>\n",
       "      <th>0</th>\n",
       "      <td>NB501110:123:H7C3WBGX7:1:11101:9813:1065</td>\n",
       "      <td>547</td>\n",
       "    </tr>\n",
       "    <tr>\n",
       "      <th>1</th>\n",
       "      <td>NB501110:123:H7C3WBGX7:1:11101:9032:1067</td>\n",
       "      <td>329</td>\n",
       "    </tr>\n",
       "    <tr>\n",
       "      <th>2</th>\n",
       "      <td>NB501110:123:H7C3WBGX7:1:11101:9958:1067</td>\n",
       "      <td>69218</td>\n",
       "    </tr>\n",
       "    <tr>\n",
       "      <th>3</th>\n",
       "      <td>NB501110:123:H7C3WBGX7:1:11101:22148:1069</td>\n",
       "      <td>1076549</td>\n",
       "    </tr>\n",
       "    <tr>\n",
       "      <th>4</th>\n",
       "      <td>NB501110:123:H7C3WBGX7:1:11101:17061:1072</td>\n",
       "      <td>487316</td>\n",
       "    </tr>\n",
       "    <tr>\n",
       "      <th>5</th>\n",
       "      <td>NB501110:123:H7C3WBGX7:1:11101:7661:1075</td>\n",
       "      <td>69218</td>\n",
       "    </tr>\n",
       "    <tr>\n",
       "      <th>6</th>\n",
       "      <td>NB501110:123:H7C3WBGX7:1:11101:3445:1076</td>\n",
       "      <td>1076549</td>\n",
       "    </tr>\n",
       "    <tr>\n",
       "      <th>7</th>\n",
       "      <td>NB501110:123:H7C3WBGX7:1:11101:9350:1077</td>\n",
       "      <td>487316</td>\n",
       "    </tr>\n",
       "    <tr>\n",
       "      <th>8</th>\n",
       "      <td>NB501110:123:H7C3WBGX7:1:11101:5326:1077</td>\n",
       "      <td>48736</td>\n",
       "    </tr>\n",
       "    <tr>\n",
       "      <th>9</th>\n",
       "      <td>NB501110:123:H7C3WBGX7:1:11101:21410:1079</td>\n",
       "      <td>1560356</td>\n",
       "    </tr>\n",
       "  </tbody>\n",
       "</table>\n",
       "</div>"
      ],
      "text/plain": [
       "                                        read    taxon\n",
       "0   NB501110:123:H7C3WBGX7:1:11101:9813:1065      547\n",
       "1   NB501110:123:H7C3WBGX7:1:11101:9032:1067      329\n",
       "2   NB501110:123:H7C3WBGX7:1:11101:9958:1067    69218\n",
       "3  NB501110:123:H7C3WBGX7:1:11101:22148:1069  1076549\n",
       "4  NB501110:123:H7C3WBGX7:1:11101:17061:1072   487316\n",
       "5   NB501110:123:H7C3WBGX7:1:11101:7661:1075    69218\n",
       "6   NB501110:123:H7C3WBGX7:1:11101:3445:1076  1076549\n",
       "7   NB501110:123:H7C3WBGX7:1:11101:9350:1077   487316\n",
       "8   NB501110:123:H7C3WBGX7:1:11101:5326:1077    48736\n",
       "9  NB501110:123:H7C3WBGX7:1:11101:21410:1079  1560356"
      ]
     },
     "execution_count": 5,
     "metadata": {},
     "output_type": "execute_result"
    }
   ],
   "source": [
    "# como kraken10 tiene dos columnas extra que no necesitamos por el momento las eliminamos con .drop,\n",
    "# asi quedan los dos outputs con las misma comunas\n",
    "datakraken101 = datakraken10.drop(['c-clasificado','1', '2'], axis=1)\n",
    "datakraken101"
   ]
  },
  {
   "cell_type": "code",
   "execution_count": 6,
   "metadata": {},
   "outputs": [
    {
     "data": {
      "text/html": [
       "<div>\n",
       "<style scoped>\n",
       "    .dataframe tbody tr th:only-of-type {\n",
       "        vertical-align: middle;\n",
       "    }\n",
       "\n",
       "    .dataframe tbody tr th {\n",
       "        vertical-align: top;\n",
       "    }\n",
       "\n",
       "    .dataframe thead th {\n",
       "        text-align: right;\n",
       "    }\n",
       "</style>\n",
       "<table border=\"1\" class=\"dataframe\">\n",
       "  <thead>\n",
       "    <tr style=\"text-align: right;\">\n",
       "      <th></th>\n",
       "      <th>read</th>\n",
       "      <th>taxon</th>\n",
       "    </tr>\n",
       "  </thead>\n",
       "  <tbody>\n",
       "    <tr>\n",
       "      <th>0</th>\n",
       "      <td>NB501110:123:H7C3WBGX7:1:11101:22148:1069</td>\n",
       "      <td>470934</td>\n",
       "    </tr>\n",
       "    <tr>\n",
       "      <th>1</th>\n",
       "      <td>NB501110:123:H7C3WBGX7:1:11101:12474:1085</td>\n",
       "      <td>69218</td>\n",
       "    </tr>\n",
       "    <tr>\n",
       "      <th>2</th>\n",
       "      <td>NB501110:123:H7C3WBGX7:1:11101:19868:1087</td>\n",
       "      <td>53335</td>\n",
       "    </tr>\n",
       "    <tr>\n",
       "      <th>3</th>\n",
       "      <td>NB501110:123:H7C3WBGX7:1:11101:10733:1094</td>\n",
       "      <td>69218</td>\n",
       "    </tr>\n",
       "    <tr>\n",
       "      <th>4</th>\n",
       "      <td>NB501110:123:H7C3WBGX7:1:11101:20523:1097</td>\n",
       "      <td>1224136</td>\n",
       "    </tr>\n",
       "    <tr>\n",
       "      <th>5</th>\n",
       "      <td>NB501110:123:H7C3WBGX7:1:11101:9448:1118</td>\n",
       "      <td>470934</td>\n",
       "    </tr>\n",
       "    <tr>\n",
       "      <th>6</th>\n",
       "      <td>NB501110:123:H7C3WBGX7:1:11101:21936:1120</td>\n",
       "      <td>428406</td>\n",
       "    </tr>\n",
       "    <tr>\n",
       "      <th>7</th>\n",
       "      <td>NB501110:123:H7C3WBGX7:1:11101:25518:1127</td>\n",
       "      <td>329</td>\n",
       "    </tr>\n",
       "    <tr>\n",
       "      <th>8</th>\n",
       "      <td>NB501110:123:H7C3WBGX7:1:11101:22286:1152</td>\n",
       "      <td>1312959</td>\n",
       "    </tr>\n",
       "    <tr>\n",
       "      <th>9</th>\n",
       "      <td>NB501110:123:H7C3WBGX7:1:11101:6718:1180</td>\n",
       "      <td>53335</td>\n",
       "    </tr>\n",
       "  </tbody>\n",
       "</table>\n",
       "</div>"
      ],
      "text/plain": [
       "                                        read    taxon\n",
       "0  NB501110:123:H7C3WBGX7:1:11101:22148:1069   470934\n",
       "1  NB501110:123:H7C3WBGX7:1:11101:12474:1085    69218\n",
       "2  NB501110:123:H7C3WBGX7:1:11101:19868:1087    53335\n",
       "3  NB501110:123:H7C3WBGX7:1:11101:10733:1094    69218\n",
       "4  NB501110:123:H7C3WBGX7:1:11101:20523:1097  1224136\n",
       "5   NB501110:123:H7C3WBGX7:1:11101:9448:1118   470934\n",
       "6  NB501110:123:H7C3WBGX7:1:11101:21936:1120   428406\n",
       "7  NB501110:123:H7C3WBGX7:1:11101:25518:1127      329\n",
       "8  NB501110:123:H7C3WBGX7:1:11101:22286:1152  1312959\n",
       "9   NB501110:123:H7C3WBGX7:1:11101:6718:1180    53335"
      ]
     },
     "execution_count": 6,
     "metadata": {},
     "output_type": "execute_result"
    }
   ],
   "source": [
    "datakaiju101 = datakaiju10.drop(['c-clasificado'], axis=1)\n",
    "datakaiju101"
   ]
  },
  {
   "cell_type": "code",
   "execution_count": 10,
   "metadata": {},
   "outputs": [
    {
     "name": "stdout",
     "output_type": "stream",
     "text": [
      "<class 'pandas.core.frame.DataFrame'>\n",
      "RangeIndex: 10 entries, 0 to 9\n",
      "Data columns (total 2 columns):\n",
      " #   Column  Non-Null Count  Dtype \n",
      "---  ------  --------------  ----- \n",
      " 0   read    10 non-null     object\n",
      " 1   taxon   10 non-null     int64 \n",
      "dtypes: int64(1), object(1)\n",
      "memory usage: 288.0+ bytes\n"
     ]
    }
   ],
   "source": [
    "datakraken101.info()"
   ]
  },
  {
   "cell_type": "code",
   "execution_count": 11,
   "metadata": {},
   "outputs": [
    {
     "name": "stdout",
     "output_type": "stream",
     "text": [
      "<class 'pandas.core.frame.DataFrame'>\n",
      "RangeIndex: 10 entries, 0 to 9\n",
      "Data columns (total 2 columns):\n",
      " #   Column  Non-Null Count  Dtype \n",
      "---  ------  --------------  ----- \n",
      " 0   read    10 non-null     object\n",
      " 1   taxon   10 non-null     int64 \n",
      "dtypes: int64(1), object(1)\n",
      "memory usage: 288.0+ bytes\n"
     ]
    }
   ],
   "source": [
    "datakaiju101.info()"
   ]
  },
  {
   "cell_type": "markdown",
   "metadata": {},
   "source": [
    "Cree dos diccionarios, cuyas 'keys' son los reads y los 'values' son los taxones segun la clacificación."
   ]
  },
  {
   "cell_type": "code",
   "execution_count": 53,
   "metadata": {},
   "outputs": [
    {
     "data": {
      "text/plain": [
       "{'NB501110:123:H7C3WBGX7:1:11101:9813:1065': [547],\n",
       " 'NB501110:123:H7C3WBGX7:1:11101:9032:1067': [329],\n",
       " 'NB501110:123:H7C3WBGX7:1:11101:9958:1067': [69218],\n",
       " 'NB501110:123:H7C3WBGX7:1:11101:22148:1069': [1076549],\n",
       " 'NB501110:123:H7C3WBGX7:1:11101:17061:1072': [487316],\n",
       " 'NB501110:123:H7C3WBGX7:1:11101:7661:1075': [69218],\n",
       " 'NB501110:123:H7C3WBGX7:1:11101:3445:1076': [1076549],\n",
       " 'NB501110:123:H7C3WBGX7:1:11101:9350:1077': [487316],\n",
       " 'NB501110:123:H7C3WBGX7:1:11101:5326:1077': [48736],\n",
       " 'NB501110:123:H7C3WBGX7:1:11101:21410:1079': [1560356]}"
      ]
     },
     "execution_count": 53,
     "metadata": {},
     "output_type": "execute_result"
    }
   ],
   "source": [
    "dickraken = datakraken101.set_index('read').T.to_dict('list')\n",
    "dickraken"
   ]
  },
  {
   "cell_type": "code",
   "execution_count": 54,
   "metadata": {},
   "outputs": [
    {
     "data": {
      "text/plain": [
       "[1076549]"
      ]
     },
     "execution_count": 54,
     "metadata": {},
     "output_type": "execute_result"
    }
   ],
   "source": [
    "dickraken['NB501110:123:H7C3WBGX7:1:11101:22148:1069']"
   ]
  },
  {
   "cell_type": "code",
   "execution_count": 55,
   "metadata": {},
   "outputs": [
    {
     "data": {
      "text/plain": [
       "{'NB501110:123:H7C3WBGX7:1:11101:22148:1069': [470934],\n",
       " 'NB501110:123:H7C3WBGX7:1:11101:12474:1085': [69218],\n",
       " 'NB501110:123:H7C3WBGX7:1:11101:19868:1087': [53335],\n",
       " 'NB501110:123:H7C3WBGX7:1:11101:10733:1094': [69218],\n",
       " 'NB501110:123:H7C3WBGX7:1:11101:20523:1097': [1224136],\n",
       " 'NB501110:123:H7C3WBGX7:1:11101:9448:1118': [470934],\n",
       " 'NB501110:123:H7C3WBGX7:1:11101:21936:1120': [428406],\n",
       " 'NB501110:123:H7C3WBGX7:1:11101:25518:1127': [329],\n",
       " 'NB501110:123:H7C3WBGX7:1:11101:22286:1152': [1312959],\n",
       " 'NB501110:123:H7C3WBGX7:1:11101:6718:1180': [53335]}"
      ]
     },
     "execution_count": 55,
     "metadata": {},
     "output_type": "execute_result"
    }
   ],
   "source": [
    "dickaiju = datakaiju101.set_index('read').T.to_dict('list')\n",
    "dickaiju"
   ]
  },
  {
   "cell_type": "code",
   "execution_count": 56,
   "metadata": {},
   "outputs": [
    {
     "data": {
      "text/plain": [
       "[470934]"
      ]
     },
     "execution_count": 56,
     "metadata": {},
     "output_type": "execute_result"
    }
   ],
   "source": [
    "dickaiju['NB501110:123:H7C3WBGX7:1:11101:22148:1069']"
   ]
  },
  {
   "cell_type": "code",
   "execution_count": 16,
   "metadata": {},
   "outputs": [],
   "source": [
    "#merge_dicts(dicKraken, dicKaiju)"
   ]
  },
  {
   "cell_type": "code",
   "execution_count": 78,
   "metadata": {},
   "outputs": [
    {
     "data": {
      "text/plain": [
       "defaultdict(list,\n",
       "            {'NB501110:123:H7C3WBGX7:1:11101:9813:1065': [[547]],\n",
       "             'NB501110:123:H7C3WBGX7:1:11101:9032:1067': [[329]],\n",
       "             'NB501110:123:H7C3WBGX7:1:11101:9958:1067': [[69218]],\n",
       "             'NB501110:123:H7C3WBGX7:1:11101:22148:1069': [[1076549],\n",
       "              [470934]],\n",
       "             'NB501110:123:H7C3WBGX7:1:11101:17061:1072': [[487316]],\n",
       "             'NB501110:123:H7C3WBGX7:1:11101:7661:1075': [[69218]],\n",
       "             'NB501110:123:H7C3WBGX7:1:11101:3445:1076': [[1076549]],\n",
       "             'NB501110:123:H7C3WBGX7:1:11101:9350:1077': [[487316]],\n",
       "             'NB501110:123:H7C3WBGX7:1:11101:5326:1077': [[48736]],\n",
       "             'NB501110:123:H7C3WBGX7:1:11101:21410:1079': [[1560356]],\n",
       "             'NB501110:123:H7C3WBGX7:1:11101:12474:1085': [[69218]],\n",
       "             'NB501110:123:H7C3WBGX7:1:11101:19868:1087': [[53335]],\n",
       "             'NB501110:123:H7C3WBGX7:1:11101:10733:1094': [[69218]],\n",
       "             'NB501110:123:H7C3WBGX7:1:11101:20523:1097': [[1224136]],\n",
       "             'NB501110:123:H7C3WBGX7:1:11101:9448:1118': [[470934]],\n",
       "             'NB501110:123:H7C3WBGX7:1:11101:21936:1120': [[428406]],\n",
       "             'NB501110:123:H7C3WBGX7:1:11101:25518:1127': [[329]],\n",
       "             'NB501110:123:H7C3WBGX7:1:11101:22286:1152': [[1312959]],\n",
       "             'NB501110:123:H7C3WBGX7:1:11101:6718:1180': [[53335]]})"
      ]
     },
     "execution_count": 78,
     "metadata": {},
     "output_type": "execute_result"
    }
   ],
   "source": [
    "from itertools import chain\n",
    "from collections import defaultdict\n",
    "dic = defaultdict(list)\n",
    "for k, v in chain(dicKraken.items(), dicKaiju.items()):\n",
    "    dic[k].append(v)\n",
    "dic"
   ]
  },
  {
   "cell_type": "code",
   "execution_count": 76,
   "metadata": {},
   "outputs": [
    {
     "data": {
      "text/plain": [
       "[[1076549], [470934]]"
      ]
     },
     "execution_count": 76,
     "metadata": {},
     "output_type": "execute_result"
    }
   ],
   "source": [
    "dic['NB501110:123:H7C3WBGX7:1:11101:22148:1069']"
   ]
  },
  {
   "cell_type": "code",
   "execution_count": 80,
   "metadata": {},
   "outputs": [],
   "source": [
    "#df = pd.DataFrame(dic,columns=['nombre_read','kraken_taxon', 'kaiju_taxon'])\n",
    "#df"
   ]
  },
  {
   "cell_type": "code",
   "execution_count": null,
   "metadata": {},
   "outputs": [],
   "source": []
  },
  {
   "cell_type": "code",
   "execution_count": null,
   "metadata": {},
   "outputs": [],
   "source": []
  }
 ],
 "metadata": {
  "kernelspec": {
   "display_name": "Python 3",
   "language": "python",
   "name": "python3"
  },
  "language_info": {
   "codemirror_mode": {
    "name": "ipython",
    "version": 3
   },
   "file_extension": ".py",
   "mimetype": "text/x-python",
   "name": "python",
   "nbconvert_exporter": "python",
   "pygments_lexer": "ipython3",
   "version": "3.8.5"
  }
 },
 "nbformat": 4,
 "nbformat_minor": 4
}
