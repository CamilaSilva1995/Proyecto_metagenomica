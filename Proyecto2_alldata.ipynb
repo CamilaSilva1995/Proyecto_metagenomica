{
 "cells": [
  {
   "cell_type": "markdown",
   "metadata": {},
   "source": [
    "Tomando la totalidad de los datos"
   ]
  },
  {
   "cell_type": "code",
   "execution_count": null,
   "metadata": {},
   "outputs": [],
   "source": [
    "#lectura de los datos por medio de pandas, se tomaron las 10 primeras lineas de ambos outputs\n",
    "import pandas as pd\n",
    "# pandas.leer archivo .csv(nombre del archivo, separado por tabulaciones, columnas sin nombre)\n",
    "datakraken = pd.read_csv('data/EG1BMAA_kraken',sep='\\t',header=None, names=[\"c-clasificado\", \"read\",\"taxon\",\"1\",\"2\"]) \n",
    "datakaiju = pd.read_csv('data/EG1BMAA_kaiju',sep='\\t',header=None, names=[\"c-clasificado\", \"read\",\"taxon\"])"
   ]
  },
  {
   "cell_type": "code",
   "execution_count": null,
   "metadata": {},
   "outputs": [],
   "source": [
    "datakraken"
   ]
  },
  {
   "cell_type": "code",
   "execution_count": null,
   "metadata": {},
   "outputs": [],
   "source": [
    "datakaiju"
   ]
  },
  {
   "cell_type": "code",
   "execution_count": null,
   "metadata": {},
   "outputs": [],
   "source": [
    "datakrakenall = datakraken.drop(['c-clasificado','1', '2'], axis=1)\n",
    "datakrakenall"
   ]
  },
  {
   "cell_type": "code",
   "execution_count": null,
   "metadata": {},
   "outputs": [],
   "source": [
    "datakaijuall = datakaiju.drop(['c-clasificado'], axis=1)\n",
    "datakaijuall"
   ]
  },
  {
   "cell_type": "code",
   "execution_count": null,
   "metadata": {},
   "outputs": [],
   "source": [
    "datakaijuall = datakaiju.drop(['c-clasificado'], axis=1)\n",
    "datakaijuall"
   ]
  },
  {
   "cell_type": "code",
   "execution_count": null,
   "metadata": {},
   "outputs": [],
   "source": [
    "dickrakenall = datakrakenall.set_index('read').T.to_dict('list')"
   ]
  },
  {
   "cell_type": "code",
   "execution_count": null,
   "metadata": {},
   "outputs": [],
   "source": [
    "dickaijuall = datakaijuall.set_index('read').T.to_dict('list')"
   ]
  },
  {
   "cell_type": "code",
   "execution_count": null,
   "metadata": {},
   "outputs": [],
   "source": [
    "def mergeDict(dict1, dict2):\n",
    "   #'Merge dictionaries and keep values of common keys in list'\n",
    "    keys1 = dict.keys(dict1)\n",
    "    keys2 = dict.keys(dict2)\n",
    "    interccion = keys1 & keys2\n",
    "    dif1 = keys1 - keys2\n",
    "    dif2 = keys2 - keys1\n",
    "    diccall = {\"read\":[],\"kraken_taxon\":[],\"kaiju_taxon\":[],\"measure\":[]}\n",
    "   #dic = {**dict1, **dict2}\n",
    "    for i in interccion:\n",
    "        diccall[\"read\"].append(i)\n",
    "        diccall[\"kraken_taxon\"].append(dict1[i])\n",
    "        diccall[\"kaiju_taxon\"].append(dict2[i])\n",
    "        if dict1[i] == dict2[i]:\n",
    "            diccall[\"measure\"].append(1)\n",
    "        diccall[\"measure\"].append(0)\n",
    "    for i in dif1:\n",
    "        diccall[\"read\"].append(i)\n",
    "        diccall[\"kraken_taxon\"].append(dict1[i])\n",
    "        diccall[\"kaiju_taxon\"].append('NA')\n",
    "        diccall[\"measure\"].append(0)  \n",
    "    for i in dif2:\n",
    "        diccall[\"read\"].append(i)\n",
    "        diccall[\"kraken_taxon\"].append('NA')\n",
    "        diccall[\"kaiju_taxon\"].append(dict2[i])\n",
    "        diccall[\"measure\"].append(0)  \n",
    "    return diccall\n",
    "# Merge dictionaries and add values of common keys in a list\n",
    "diccall = mergeDict(dickrakenall, dickaijuall)\n",
    "diccall"
   ]
  },
  {
   "cell_type": "code",
   "execution_count": null,
   "metadata": {},
   "outputs": [],
   "source": [
    "#convierte el diccionario en data frame\n",
    "dfdiccall = pd.DataFrame(diccall)\n",
    "dfdiccall"
   ]
  },
  {
   "cell_type": "code",
   "execution_count": null,
   "metadata": {},
   "outputs": [],
   "source": []
  },
  {
   "cell_type": "code",
   "execution_count": null,
   "metadata": {},
   "outputs": [],
   "source": []
  },
  {
   "cell_type": "code",
   "execution_count": null,
   "metadata": {},
   "outputs": [],
   "source": []
  },
  {
   "cell_type": "code",
   "execution_count": null,
   "metadata": {},
   "outputs": [],
   "source": []
  },
  {
   "cell_type": "code",
   "execution_count": null,
   "metadata": {},
   "outputs": [],
   "source": []
  }
 ],
 "metadata": {
  "kernelspec": {
   "display_name": "Python 3",
   "language": "python",
   "name": "python3"
  },
  "language_info": {
   "codemirror_mode": {
    "name": "ipython",
    "version": 3
   },
   "file_extension": ".py",
   "mimetype": "text/x-python",
   "name": "python",
   "nbconvert_exporter": "python",
   "pygments_lexer": "ipython3",
   "version": "3.8.5"
  }
 },
 "nbformat": 4,
 "nbformat_minor": 4
}
